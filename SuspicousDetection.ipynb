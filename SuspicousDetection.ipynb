{
  "nbformat": 4,
  "nbformat_minor": 0,
  "metadata": {
    "colab": {
      "name": "SuspicousDetection.ipynb",
      "provenance": [],
      "collapsed_sections": []
    },
    "kernelspec": {
      "name": "python3",
      "display_name": "Python 3"
    },
    "accelerator": "GPU"
  },
  "cells": [
    {
      "cell_type": "markdown",
      "metadata": {
        "id": "hnmt95v4rcPs",
        "colab_type": "text"
      },
      "source": [
        "# Suspicious Detection "
      ]
    },
    {
      "cell_type": "markdown",
      "metadata": {
        "id": "t8Zrgz-MqCDj",
        "colab_type": "text"
      },
      "source": [
        "## Mount Drive"
      ]
    },
    {
      "cell_type": "code",
      "metadata": {
        "id": "sx83lPRHtuIk",
        "colab_type": "code",
        "outputId": "94ab4aab-b06e-4c3b-b681-8613be8c66ef",
        "colab": {
          "base_uri": "https://localhost:8080/",
          "height": 34
        }
      },
      "source": [
        "from google.colab import drive\n",
        "drive.mount('/content/drive')"
      ],
      "execution_count": 0,
      "outputs": [
        {
          "output_type": "stream",
          "text": [
            "Drive already mounted at /content/drive; to attempt to forcibly remount, call drive.mount(\"/content/drive\", force_remount=True).\n"
          ],
          "name": "stdout"
        }
      ]
    },
    {
      "cell_type": "markdown",
      "metadata": {
        "id": "qaTO7AP_qNp0",
        "colab_type": "text"
      },
      "source": [
        "## Set the path where dataset is stored"
      ]
    },
    {
      "cell_type": "code",
      "metadata": {
        "id": "RaFysBIOuZlb",
        "colab_type": "code",
        "colab": {}
      },
      "source": [
        "data_root='/content/drive/My Drive/Suspicious Activity Detection/Dataset'"
      ],
      "execution_count": 0,
      "outputs": []
    },
    {
      "cell_type": "markdown",
      "metadata": {
        "id": "psMZqVe4qNkN",
        "colab_type": "text"
      },
      "source": [
        "## Set path of all classes and get number of data in each class\n"
      ]
    },
    {
      "cell_type": "code",
      "metadata": {
        "id": "QVet1SQMYZjy",
        "colab_type": "code",
        "outputId": "6fce11f4-d728-4138-80f2-f528f188b0bd",
        "colab": {
          "base_uri": "https://localhost:8080/",
          "height": 68
        }
      },
      "source": [
        "suspDir=data_root+'/Suspicious'\n",
        "fireDir=data_root+'/Fire'\n",
        "safeDir = data_root+'/Safe'\n",
        "print(\"Suspicious Images=\",len(os.listdir(suspDir)),\n",
        "      \"\\nFire Images=\",len(os.listdir(fireDir)),\n",
        "      \"\\nSafe Images=\",len(os.listdir(safeDir)))"
      ],
      "execution_count": 0,
      "outputs": [
        {
          "output_type": "stream",
          "text": [
            "Suspicious Images= 1723 \n",
            "Fire Images= 160 \n",
            "Safe Images= 3342\n"
          ],
          "name": "stdout"
        }
      ]
    },
    {
      "cell_type": "markdown",
      "metadata": {
        "id": "VlOyHxANrAQ-",
        "colab_type": "text"
      },
      "source": [
        "## Install required packages"
      ]
    },
    {
      "cell_type": "code",
      "metadata": {
        "id": "6xQl7_eLxQdZ",
        "colab_type": "code",
        "colab": {}
      },
      "source": [
        "pip install tensorflow-gpu==2.0.0-beta0"
      ],
      "execution_count": 0,
      "outputs": []
    },
    {
      "cell_type": "code",
      "metadata": {
        "id": "W_mDjvdsxype",
        "colab_type": "code",
        "outputId": "6e2225fb-cb7c-4984-f471-d854898111b3",
        "colab": {
          "base_uri": "https://localhost:8080/",
          "height": 109
        }
      },
      "source": [
        "pip install tensorflow_hub"
      ],
      "execution_count": 0,
      "outputs": [
        {
          "output_type": "stream",
          "text": [
            "Requirement already satisfied: tensorflow_hub in /usr/local/lib/python3.6/dist-packages (0.7.0)\n",
            "Requirement already satisfied: numpy>=1.12.0 in /usr/local/lib/python3.6/dist-packages (from tensorflow_hub) (1.18.2)\n",
            "Requirement already satisfied: six>=1.10.0 in /usr/local/lib/python3.6/dist-packages (from tensorflow_hub) (1.12.0)\n",
            "Requirement already satisfied: protobuf>=3.4.0 in /usr/local/lib/python3.6/dist-packages (from tensorflow_hub) (3.10.0)\n",
            "Requirement already satisfied: setuptools in /usr/local/lib/python3.6/dist-packages (from protobuf>=3.4.0->tensorflow_hub) (46.0.0)\n"
          ],
          "name": "stdout"
        }
      ]
    },
    {
      "cell_type": "code",
      "metadata": {
        "id": "wbXKPK2LpInw",
        "colab_type": "code",
        "colab": {}
      },
      "source": [
        "pip install tensorflow"
      ],
      "execution_count": 0,
      "outputs": []
    },
    {
      "cell_type": "code",
      "metadata": {
        "id": "4j5V4OFnvwbb",
        "colab_type": "code",
        "outputId": "ebda211b-b90b-40ee-c96d-6737c9b6aeae",
        "colab": {
          "base_uri": "https://localhost:8080/",
          "height": 35
        }
      },
      "source": [
        "tf.__version__"
      ],
      "execution_count": 0,
      "outputs": [
        {
          "output_type": "execute_result",
          "data": {
            "text/plain": [
              "'2.2.0-rc2'"
            ]
          },
          "metadata": {
            "tags": []
          },
          "execution_count": 14
        }
      ]
    },
    {
      "cell_type": "code",
      "metadata": {
        "id": "FtA9Aoqyvm1L",
        "colab_type": "code",
        "outputId": "df867b0d-f62d-4053-8bb9-9c8adc2ba48e",
        "colab": {
          "base_uri": "https://localhost:8080/",
          "height": 109
        }
      },
      "source": [
        "try:\n",
        "  %tensorflow_version 2.2.1\n",
        "except Exception:\n",
        "  pass"
      ],
      "execution_count": 0,
      "outputs": [
        {
          "output_type": "stream",
          "text": [
            "`%tensorflow_version` only switches the major version: 1.x or 2.x.\n",
            "You set: `2.2.1`. This will be interpreted as: `2.x`.\n",
            "\n",
            "\n",
            "TensorFlow is already loaded. Please restart the runtime to change versions.\n"
          ],
          "name": "stdout"
        }
      ]
    },
    {
      "cell_type": "markdown",
      "metadata": {
        "id": "ybtc2a8HrQVo",
        "colab_type": "text"
      },
      "source": [
        "## Import Required Libraries"
      ]
    },
    {
      "cell_type": "code",
      "metadata": {
        "id": "vWFsq77zx2Q8",
        "colab_type": "code",
        "colab": {}
      },
      "source": [
        "from __future__ import absolute_import, division, print_function, unicode_literals\n",
        "import matplotlib.pylab as plt\n",
        "import tensorflow as tf\n",
        "import tensorflow_hub as hub\n",
        "import numpy as np\n",
        "import pandas as pd"
      ],
      "execution_count": 0,
      "outputs": []
    },
    {
      "cell_type": "markdown",
      "metadata": {
        "id": "sJA7DoPkuBtY",
        "colab_type": "text"
      },
      "source": [
        "## Code to resize images "
      ]
    },
    {
      "cell_type": "code",
      "metadata": {
        "id": "f6hoGH8Ut2Z1",
        "colab_type": "code",
        "colab": {}
      },
      "source": [
        "# import cv2\n",
        " \n",
        "# x=suspDir # path to dir where images are stored\n",
        "# i=0\n",
        "# for f in os.listdir(x)[1656:]:\n",
        "#     i+=1\n",
        "#     img = cv2.imread(os.path.join(x,f))\n",
        "#     resized = cv2.resize(img, (224,224))\n",
        "#     cv2.imwrite(x+'/'+str(f),resized)"
      ],
      "execution_count": 0,
      "outputs": []
    },
    {
      "cell_type": "markdown",
      "metadata": {
        "id": "e-NsGeJEuiQP",
        "colab_type": "text"
      },
      "source": [
        "## Code to generate training and validation generators"
      ]
    },
    {
      "cell_type": "code",
      "metadata": {
        "id": "9A9EFuOyzT18",
        "colab_type": "code",
        "outputId": "e4a326cd-0a7e-4808-86ee-b64655731372",
        "colab": {
          "base_uri": "https://localhost:8080/",
          "height": 68
        }
      },
      "source": [
        "IMAGE_SHAPE = (224, 224)\n",
        "TRAINING_DATA_DIR = str(data_root)\n",
        "print(TRAINING_DATA_DIR);\n",
        "datagen_kwargs_val = dict(rescale=1./255, validation_split=.20)\n",
        "valid_datagen = tf.keras.preprocessing.image.ImageDataGenerator(**datagen_kwargs_val)\n",
        "valid_generator = valid_datagen.flow_from_directory(\n",
        "TRAINING_DATA_DIR,\n",
        "subset=\"validation\",\n",
        "shuffle=True,\n",
        "target_size=IMAGE_SHAPE\n",
        ")\n",
        "datagen_kwargs_train = dict(rescale=1./255, validation_split=.20,horizontal_flip=True,rotation_range=45,zoom_range=0.2,shear_range=0.2,\n",
        "                                                                height_shift_range=0.2,width_shift_range=0.2)\n",
        "train_datagen = tf.keras.preprocessing.image.ImageDataGenerator(**datagen_kwargs_train)\n",
        "train_generator = train_datagen.flow_from_directory(\n",
        "TRAINING_DATA_DIR,\n",
        "subset=\"training\",\n",
        "shuffle=True,\n",
        "target_size=IMAGE_SHAPE\n",
        ")"
      ],
      "execution_count": 0,
      "outputs": [
        {
          "output_type": "stream",
          "text": [
            "/content/drive/My Drive/Suspicious Activity Detection/Dataset\n",
            "Found 1044 images belonging to 3 classes.\n",
            "Found 4181 images belonging to 3 classes.\n"
          ],
          "name": "stdout"
        }
      ]
    },
    {
      "cell_type": "markdown",
      "metadata": {
        "id": "q8nxzW7ZusjQ",
        "colab_type": "text"
      },
      "source": [
        "## Print all labels and shape of images"
      ]
    },
    {
      "cell_type": "code",
      "metadata": {
        "id": "3cCiItAY20i2",
        "colab_type": "code",
        "outputId": "757a4baa-78bd-4548-bfe4-51ab64438e20",
        "colab": {
          "base_uri": "https://localhost:8080/",
          "height": 68
        }
      },
      "source": [
        "image_batch_train, label_batch_train = next(iter(train_generator))\n",
        "print(\"Image batch shape: \", image_batch_train.shape)\n",
        "print(\"Label batch shape: \", label_batch_train.shape)\n",
        "dataset_labels = sorted(train_generator.class_indices.items(), key=lambda pair:pair[1])\n",
        "dataset_labels = np.array([key.title() for key, value in dataset_labels])\n",
        "print(dataset_labels)"
      ],
      "execution_count": 0,
      "outputs": [
        {
          "output_type": "stream",
          "text": [
            "Image batch shape:  (32, 224, 224, 3)\n",
            "Label batch shape:  (32, 3)\n",
            "['Fire' 'Safe' 'Suspicious']\n"
          ],
          "name": "stdout"
        }
      ]
    },
    {
      "cell_type": "markdown",
      "metadata": {
        "id": "iTYde5Hvu5sW",
        "colab_type": "text"
      },
      "source": [
        "## Build the model"
      ]
    },
    {
      "cell_type": "markdown",
      "metadata": {
        "id": "iOB7dCKOu-yj",
        "colab_type": "text"
      },
      "source": [
        "### Model is a sequential model containing following layers\n",
        "\n",
        "\n",
        "1.   Feature vector of pretrained mobile-net v2 model\n",
        "2.   Dropout layer to reduce overfitting\n",
        "3.   Dense or FC layer as output layer with softmax activation\n",
        "\n"
      ]
    },
    {
      "cell_type": "code",
      "metadata": {
        "id": "jKE4tzkgGmK8",
        "colab_type": "code",
        "outputId": "1f9c9afc-97da-44d1-e515-a69cb3cc480f",
        "colab": {
          "base_uri": "https://localhost:8080/",
          "height": 255
        }
      },
      "source": [
        "model = tf.keras.Sequential([\n",
        "hub.KerasLayer(\"https://tfhub.dev/google/tf2-preview/mobilenet_v2/feature_vector/4\",\n",
        "output_shape=[1280],\n",
        "trainable=False),\n",
        "tf.keras.layers.Dropout(0.4),\n",
        "tf.keras.layers.Dense(train_generator.num_classes, activation='softmax')\n",
        "])\n",
        "model.build([None, 224, 224, 3])\n",
        "model.summary()\n",
        "model.compile(\n",
        "optimizer='adam',\n",
        "loss='categorical_crossentropy',\n",
        "metrics=['acc']\n",
        ")"
      ],
      "execution_count": 0,
      "outputs": [
        {
          "output_type": "stream",
          "text": [
            "Model: \"sequential_4\"\n",
            "_________________________________________________________________\n",
            "Layer (type)                 Output Shape              Param #   \n",
            "=================================================================\n",
            "keras_layer_4 (KerasLayer)   multiple                  2257984   \n",
            "_________________________________________________________________\n",
            "dropout_4 (Dropout)          multiple                  0         \n",
            "_________________________________________________________________\n",
            "dense_4 (Dense)              multiple                  3843      \n",
            "=================================================================\n",
            "Total params: 2,261,827\n",
            "Trainable params: 3,843\n",
            "Non-trainable params: 2,257,984\n",
            "_________________________________________________________________\n"
          ],
          "name": "stdout"
        }
      ]
    },
    {
      "cell_type": "markdown",
      "metadata": {
        "id": "H5Tcdg5fwLWj",
        "colab_type": "text"
      },
      "source": [
        "### Train the model"
      ]
    },
    {
      "cell_type": "code",
      "metadata": {
        "id": "4j1mtuKZKV8f",
        "colab_type": "code",
        "outputId": "4e8e7b3b-e197-4e06-ac1c-d9edcb5ec005",
        "colab": {
          "base_uri": "https://localhost:8080/",
          "height": 697
        }
      },
      "source": [
        "steps_per_epoch = np.ceil(train_generator.samples/train_generator.batch_size)\n",
        "val_steps_per_epoch = np.ceil(valid_generator.samples/valid_generator.batch_size)\n",
        "hist = model.fit(\n",
        "train_generator,\n",
        "epochs=20,\n",
        "verbose=1,\n",
        "steps_per_epoch=steps_per_epoch,\n",
        "validation_data=valid_generator,\n",
        "validation_steps=val_steps_per_epoch\n",
        ")"
      ],
      "execution_count": 0,
      "outputs": [
        {
          "output_type": "stream",
          "text": [
            "Epoch 1/20\n",
            "131/131 [==============================] - 53s 406ms/step - loss: 0.4660 - acc: 0.8223 - val_loss: 0.2253 - val_acc: 0.9119\n",
            "Epoch 2/20\n",
            "131/131 [==============================] - 53s 401ms/step - loss: 0.2262 - acc: 0.9175 - val_loss: 0.2042 - val_acc: 0.9195\n",
            "Epoch 3/20\n",
            "131/131 [==============================] - 53s 403ms/step - loss: 0.1883 - acc: 0.9333 - val_loss: 0.1299 - val_acc: 0.9406\n",
            "Epoch 4/20\n",
            "131/131 [==============================] - 52s 401ms/step - loss: 0.1778 - acc: 0.9412 - val_loss: 0.1244 - val_acc: 0.9444\n",
            "Epoch 5/20\n",
            "131/131 [==============================] - 53s 401ms/step - loss: 0.1744 - acc: 0.9436 - val_loss: 0.1209 - val_acc: 0.9540\n",
            "Epoch 6/20\n",
            "131/131 [==============================] - 53s 401ms/step - loss: 0.1562 - acc: 0.9457 - val_loss: 0.1202 - val_acc: 0.9454\n",
            "Epoch 7/20\n",
            "131/131 [==============================] - 53s 402ms/step - loss: 0.1628 - acc: 0.9450 - val_loss: 0.1053 - val_acc: 0.9559\n",
            "Epoch 8/20\n",
            "131/131 [==============================] - 53s 401ms/step - loss: 0.1431 - acc: 0.9514 - val_loss: 0.1043 - val_acc: 0.9521\n",
            "Epoch 9/20\n",
            "131/131 [==============================] - 53s 402ms/step - loss: 0.1459 - acc: 0.9491 - val_loss: 0.1192 - val_acc: 0.9521\n",
            "Epoch 10/20\n",
            "131/131 [==============================] - 52s 400ms/step - loss: 0.1485 - acc: 0.9512 - val_loss: 0.1094 - val_acc: 0.9483\n",
            "Epoch 11/20\n",
            "131/131 [==============================] - 53s 401ms/step - loss: 0.1537 - acc: 0.9491 - val_loss: 0.1174 - val_acc: 0.9425\n",
            "Epoch 12/20\n",
            "131/131 [==============================] - 52s 401ms/step - loss: 0.1436 - acc: 0.9526 - val_loss: 0.1242 - val_acc: 0.9502\n",
            "Epoch 13/20\n",
            "131/131 [==============================] - 53s 404ms/step - loss: 0.1449 - acc: 0.9507 - val_loss: 0.1105 - val_acc: 0.9406\n",
            "Epoch 14/20\n",
            "131/131 [==============================] - 53s 403ms/step - loss: 0.1251 - acc: 0.9608 - val_loss: 0.1000 - val_acc: 0.9511\n",
            "Epoch 15/20\n",
            "131/131 [==============================] - 53s 402ms/step - loss: 0.1461 - acc: 0.9524 - val_loss: 0.1126 - val_acc: 0.9473\n",
            "Epoch 16/20\n",
            "131/131 [==============================] - 52s 398ms/step - loss: 0.1324 - acc: 0.9589 - val_loss: 0.1221 - val_acc: 0.9473\n",
            "Epoch 17/20\n",
            "131/131 [==============================] - 52s 398ms/step - loss: 0.1406 - acc: 0.9553 - val_loss: 0.1054 - val_acc: 0.9464\n",
            "Epoch 18/20\n",
            "131/131 [==============================] - 52s 397ms/step - loss: 0.1526 - acc: 0.9500 - val_loss: 0.1137 - val_acc: 0.9502\n",
            "Epoch 19/20\n",
            "131/131 [==============================] - 52s 397ms/step - loss: 0.1352 - acc: 0.9562 - val_loss: 0.1051 - val_acc: 0.9473\n",
            "Epoch 20/20\n",
            "131/131 [==============================] - 52s 396ms/step - loss: 0.1464 - acc: 0.9514 - val_loss: 0.0901 - val_acc: 0.9550\n"
          ],
          "name": "stdout"
        }
      ]
    },
    {
      "cell_type": "markdown",
      "metadata": {
        "id": "8fyAKWZ1xbeF",
        "colab_type": "text"
      },
      "source": [
        "## Save the model"
      ]
    },
    {
      "cell_type": "markdown",
      "metadata": {
        "id": "jAbgtVapxhmk",
        "colab_type": "text"
      },
      "source": [
        "### Path where model is to be saved"
      ]
    },
    {
      "cell_type": "code",
      "metadata": {
        "id": "oxZlflaJwMzH",
        "colab_type": "code",
        "colab": {}
      },
      "source": [
        "h5_model_path='/content/drive/My Drive/Suspicious Activity Detection/suspicious_detection_model.h5'"
      ],
      "execution_count": 0,
      "outputs": []
    },
    {
      "cell_type": "markdown",
      "metadata": {
        "id": "fgRJXZrXxrWv",
        "colab_type": "text"
      },
      "source": [
        "### Save the model in HDF5 format"
      ]
    },
    {
      "cell_type": "code",
      "metadata": {
        "id": "0z-pPRc-xPsm",
        "colab_type": "code",
        "colab": {}
      },
      "source": [
        "model.save(\"/content/drive/My Drive/Suspicious Activity Detection/suspicious_detection_model.h5\")"
      ],
      "execution_count": 0,
      "outputs": []
    },
    {
      "cell_type": "markdown",
      "metadata": {
        "id": "OlAewzSkB77k",
        "colab_type": "text"
      },
      "source": [
        "### Load the HDF5 model from given path"
      ]
    },
    {
      "cell_type": "code",
      "metadata": {
        "id": "DRD2vpFnxaPK",
        "colab_type": "code",
        "outputId": "2838e5d4-e6fe-4eb7-d0ac-dd0d543d18e2",
        "colab": {
          "base_uri": "https://localhost:8080/",
          "height": 71
        }
      },
      "source": [
        "suspicious_detection_model=tf.keras.models.load_model(h5_model_path,custom_objects={'KerasLayer':hub.KerasLayer})"
      ],
      "execution_count": 0,
      "outputs": [
        {
          "output_type": "stream",
          "text": [
            "WARNING:tensorflow:Sequential models without an `input_shape` passed to the first layer cannot reload their optimizer state. As a result, your model isstarting with a freshly initialized optimizer.\n"
          ],
          "name": "stdout"
        },
        {
          "output_type": "stream",
          "text": [
            "WARNING:tensorflow:Sequential models without an `input_shape` passed to the first layer cannot reload their optimizer state. As a result, your model isstarting with a freshly initialized optimizer.\n"
          ],
          "name": "stderr"
        }
      ]
    },
    {
      "cell_type": "code",
      "metadata": {
        "id": "6sWeQxkMyXC0",
        "colab_type": "code",
        "outputId": "c7a2f950-e174-414e-81a2-18a232876a4e",
        "colab": {
          "base_uri": "https://localhost:8080/",
          "height": 255
        }
      },
      "source": [
        "suspicious_detection_model.summary()"
      ],
      "execution_count": 0,
      "outputs": [
        {
          "output_type": "stream",
          "text": [
            "Model: \"sequential_4\"\n",
            "_________________________________________________________________\n",
            "Layer (type)                 Output Shape              Param #   \n",
            "=================================================================\n",
            "keras_layer_4 (KerasLayer)   multiple                  2257984   \n",
            "_________________________________________________________________\n",
            "dropout_4 (Dropout)          multiple                  0         \n",
            "_________________________________________________________________\n",
            "dense_4 (Dense)              multiple                  3843      \n",
            "=================================================================\n",
            "Total params: 2,261,827\n",
            "Trainable params: 3,843\n",
            "Non-trainable params: 2,257,984\n",
            "_________________________________________________________________\n"
          ],
          "name": "stdout"
        }
      ]
    },
    {
      "cell_type": "markdown",
      "metadata": {
        "id": "ArXe_TZV0U1j",
        "colab_type": "text"
      },
      "source": [
        "## Test the model on test data"
      ]
    },
    {
      "cell_type": "code",
      "metadata": {
        "id": "4Cuggi1-z-6H",
        "colab_type": "code",
        "outputId": "15e9ff8f-6ec3-4a7c-fbf8-19f56ce7b86e",
        "colab": {
          "base_uri": "https://localhost:8080/",
          "height": 34
        }
      },
      "source": [
        "TEST_DATA_DIR = '/content/drive/My Drive/Suspicious Activity Detection/TestDataset/'\n",
        "IMG_SHAPE=(224,224)\n",
        "test_datagen_kwargs = dict(rescale=1./255)\n",
        "test_datagen = tf.keras.preprocessing.image.ImageDataGenerator(**test_datagen_kwargs)\n",
        "test_generator = test_datagen.flow_from_directory(\n",
        "    TEST_DATA_DIR,\n",
        "    target_size=IMG_SHAPE\n",
        ")"
      ],
      "execution_count": 0,
      "outputs": [
        {
          "output_type": "stream",
          "text": [
            "Found 43 images belonging to 3 classes.\n"
          ],
          "name": "stdout"
        }
      ]
    },
    {
      "cell_type": "code",
      "metadata": {
        "id": "DBK-hawzLuyA",
        "colab_type": "code",
        "outputId": "7de36fe9-c69a-4086-cb17-45a1f38aba4f",
        "colab": {
          "base_uri": "https://localhost:8080/",
          "height": 51
        }
      },
      "source": [
        "test_image_batch, test_label_batch = next(iter(test_generator))\n",
        "true_label_ids = np.argmax(test_label_batch, axis=-1)\n",
        "print(true_label_ids)\n",
        "print(\"Test batch shape:\", test_image_batch.shape)"
      ],
      "execution_count": 0,
      "outputs": [
        {
          "output_type": "stream",
          "text": [
            "[2 1 2 2 1 2 1 0 2 2 2 2 1 0 0 0 1 1 2 1 0 2 0 0 0 2 0 0 0 2 0 1]\n",
            "Test batch shape: (32, 224, 224, 3)\n"
          ],
          "name": "stdout"
        }
      ]
    },
    {
      "cell_type": "code",
      "metadata": {
        "id": "xPTd7eLaL3LA",
        "colab_type": "code",
        "outputId": "70ce4fca-7feb-4d20-ac55-18aa02f9a36d",
        "colab": {
          "base_uri": "https://localhost:8080/",
          "height": 68
        }
      },
      "source": [
        "tf_model_predictions = suspicious_detection_model.predict(test_image_batch)\n",
        "tf_pred_dataframe = pd.DataFrame(tf_model_predictions)\n",
        "tf_pred_dataframe.columns = dataset_labels\n",
        "print(\"Prediction results for the first elements\")\n",
        "#print(tf_model_predictions)\n",
        "predicted_ids = np.argmax(tf_model_predictions, axis=-1)\n",
        "predicted_labels = dataset_labels[predicted_ids]\n",
        "print(predicted_ids)\n",
        "print(true_label_ids)"
      ],
      "execution_count": 0,
      "outputs": [
        {
          "output_type": "stream",
          "text": [
            "Prediction results for the first elements\n",
            "[2 1 2 2 1 2 1 0 2 2 2 1 1 0 1 0 1 2 2 1 0 2 0 0 0 2 0 0 0 1 0 1]\n",
            "[2 1 2 2 1 2 1 0 2 2 2 2 1 0 0 0 1 1 2 1 0 2 0 0 0 2 0 0 0 2 0 1]\n"
          ],
          "name": "stdout"
        }
      ]
    },
    {
      "cell_type": "code",
      "metadata": {
        "id": "zG_uDtxzze7A",
        "colab_type": "code",
        "colab": {}
      },
      "source": [
        "for i in range(1):\n",
        " test_image_batch, test_label_batch = next(iter(test_generator))\n",
        " #print(len(test_image_batch))\n",
        " true_label_ids = np.argmax(test_label_batch, axis=-1)\n",
        " tf_model_predictions = suspicious_detection_model.predict(test_image_batch)\n",
        " tf_pred_dataframe = pd.DataFrame(tf_model_predictions)\n",
        " tf_pred_dataframe.columns = dataset_labels\n",
        " predicted_ids = np.argmax(tf_model_predictions, axis=-1)\n",
        " predicted_labels = dataset_labels[predicted_ids]\n",
        " plt.figure(figsize=(10,9))\n",
        " plt.subplots_adjust(hspace=0.5)\n",
        " for n in range(29):\n",
        "   plt.subplot(6,5,n+1)\n",
        "   plt.imshow(test_image_batch[n])\n",
        "   color = \"green\" if predicted_ids[n] == true_label_ids[n] else \"red\"\n",
        "   plt.title(predicted_labels[n].title(), color=color)\n",
        "   plt.axis('off')\n",
        "   _ = plt.suptitle(\"Model predictions (green: correct, red: incorrect)\")"
      ],
      "execution_count": 0,
      "outputs": []
    }
  ]
}